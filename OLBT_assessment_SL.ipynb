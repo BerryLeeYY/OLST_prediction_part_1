{
 "cells": [
  {
   "cell_type": "markdown",
   "metadata": {},
   "source": [
    "# Main objective: Assessing OLST performance"
   ]
  },
  {
   "cell_type": "markdown",
   "metadata": {},
   "source": [
    "###### In this script, we are using unsupervied machine learning to assess the performance of the One Leg Balance Test. For input metric, it is a N raws * 128 columns dataframe. The input parameters include different features during One Leg Balance Test trail such as \n",
    "* 1.\tLifting forefoot or heel  \n",
    "* 2.   Moving hip into more than 30 degrees of flexion or abduction  \n",
    "* 3.\tStepping, stumbling, or falling \n",
    "* 4.\tLifting hands off iliac crests\n"
   ]
  },
  {
   "cell_type": "markdown",
   "metadata": {},
   "source": [
    "## Step 1: Load and create the dataset"
   ]
  },
  {
   "cell_type": "code",
   "execution_count": 109,
   "metadata": {},
   "outputs": [],
   "source": [
    "import pandas as pd\n",
    "import numpy as np\n",
    "import os"
   ]
  },
  {
   "cell_type": "code",
   "execution_count": 110,
   "metadata": {},
   "outputs": [],
   "source": [
    "raw_df = pd.read_csv(\"SL_df.csv\")\n",
    "target_df = pd.read_csv(\"SL_target.csv\")"
   ]
  },
  {
   "cell_type": "code",
   "execution_count": 126,
   "metadata": {},
   "outputs": [],
   "source": [
    "raw_df.head()\n",
    "SL_train = raw_df.drop([\"sub\"], axis = 1)\n",
    "SL_input = SL_train.iloc[:,1:]\n",
    "SL_target = target_df.iloc[:,1:]"
   ]
  },
  {
   "cell_type": "markdown",
   "metadata": {},
   "source": [
    "## Step 2: Preprocessing the data"
   ]
  },
  {
   "cell_type": "code",
   "execution_count": 127,
   "metadata": {},
   "outputs": [],
   "source": [
    "from sklearn.preprocessing import StandardScaler\n",
    "from sklearn.preprocessing import OneHotEncoder"
   ]
  },
  {
   "cell_type": "code",
   "execution_count": 128,
   "metadata": {},
   "outputs": [],
   "source": [
    "scaler = StandardScaler()\n",
    "onehotencoder = OneHotEncoder()"
   ]
  },
  {
   "cell_type": "code",
   "execution_count": 129,
   "metadata": {},
   "outputs": [],
   "source": [
    "SL_input_processed = scaler.fit_transform(SL_input)\n",
    "SL_target_processed = np.array(SL_target[\"overall_rate\"])"
   ]
  },
  {
   "cell_type": "code",
   "execution_count": 148,
   "metadata": {},
   "outputs": [],
   "source": [
    "from sklearn.model_selection import train_test_split"
   ]
  },
  {
   "cell_type": "code",
   "execution_count": null,
   "metadata": {},
   "outputs": [],
   "source": [
    "X_train, X_test, y_train, y_test = train_test_split(X, y, test_size=0.33, random_state=42)"
   ]
  },
  {
   "cell_type": "code",
   "execution_count": 130,
   "metadata": {},
   "outputs": [],
   "source": [
    "train_num = round(0.8 * len(SL_input_processed))\n",
    "test_num = round(0.2 * len(SL_input_processed))"
   ]
  },
  {
   "cell_type": "code",
   "execution_count": 131,
   "metadata": {},
   "outputs": [],
   "source": [
    "x_train = SL_input_processed[:train_num]\n",
    "y_train = SL_target_processed[:train_num]\n",
    "\n",
    "x_test = SL_input_processed[train_num:]\n",
    "y_test = SL_target_processed[train_num:]"
   ]
  },
  {
   "cell_type": "markdown",
   "metadata": {},
   "source": [
    "## Step 3: Feature selection"
   ]
  },
  {
   "cell_type": "markdown",
   "metadata": {},
   "source": [
    "## Step 4: Train and testing the model"
   ]
  },
  {
   "cell_type": "code",
   "execution_count": 132,
   "metadata": {},
   "outputs": [],
   "source": [
    "from sklearn.svm import SVC\n",
    "from sklearn.tree import DecisionTreeClassifier\n",
    "from sklearn.linear_model import LogisticRegression\n",
    "from sklearn.ensemble import RandomForestClassifier\n",
    "\n",
    "SVC_reg = SVC()\n",
    "DT_reg = DecisionTreeClassifier()\n",
    "Log_reg = LogisticRegression()\n",
    "RF_reg = RandomForestClassifier()"
   ]
  },
  {
   "cell_type": "code",
   "execution_count": 133,
   "metadata": {},
   "outputs": [],
   "source": [
    "from sklearn.model_selection import GridSearchCV\n",
    "\n",
    "SVC_para = {\n",
    "    \"C\":[1,1.2,2,2.5,3],\n",
    "    \"kernel\":['linear', 'poly', 'rbf', 'sigmoid'],\n",
    "    \"degree\":[3,4,5],\n",
    "    \"probability\":[True]\n",
    "}\n",
    "\n",
    "DT_para = {\n",
    "    \"criterion\": [\"gini\", \"entropy\"],\n",
    "    'max_depth': [1,2,3,4,5], \n",
    "    'max_leaf_nodes': [2,3,4,5]\n",
    "}\n",
    "\n",
    "Log_para = {\n",
    "    \"penalty\": ['l2', 'none'],\n",
    "    \"C\":[1,1.2,2,2.5,3],\n",
    "    \"max_iter\":[200, 300, 400],\n",
    "    \"solver\":['lbfgs']\n",
    "}\n",
    "\n",
    "RF_para = {\n",
    "    'criterion': ['gini', 'entropy'], \n",
    "    'max_depth': [1,2,3], \n",
    "    'max_leaf_nodes': [2,3,4,5], \n",
    "    'n_estimators': [ 100, 200, 300]\n",
    "}\n"
   ]
  },
  {
   "cell_type": "code",
   "execution_count": 134,
   "metadata": {},
   "outputs": [
    {
     "name": "stderr",
     "output_type": "stream",
     "text": [
      "C:\\Users\\a1003\\anaconda3\\envs\\py3-TF2.0\\lib\\site-packages\\sklearn\\model_selection\\_split.py:672: UserWarning: The least populated class in y has only 5 members, which is less than n_splits=10.\n",
      "  % (min_groups, self.n_splits)), UserWarning)\n"
     ]
    },
    {
     "data": {
      "text/plain": [
       "{'C': 3, 'degree': 3, 'kernel': 'poly', 'probability': True}"
      ]
     },
     "execution_count": 134,
     "metadata": {},
     "output_type": "execute_result"
    }
   ],
   "source": [
    "SVC_grid_search = GridSearchCV(SVC_reg, param_grid = SVC_para, cv = 10, return_train_score = True)\n",
    "SVC_grid_search.fit(x_train, y_train.ravel())\n",
    "SVC_grid_search.best_params_"
   ]
  },
  {
   "cell_type": "code",
   "execution_count": 135,
   "metadata": {},
   "outputs": [
    {
     "name": "stderr",
     "output_type": "stream",
     "text": [
      "C:\\Users\\a1003\\anaconda3\\envs\\py3-TF2.0\\lib\\site-packages\\sklearn\\model_selection\\_split.py:672: UserWarning: The least populated class in y has only 5 members, which is less than n_splits=10.\n",
      "  % (min_groups, self.n_splits)), UserWarning)\n"
     ]
    },
    {
     "data": {
      "text/plain": [
       "{'criterion': 'gini', 'max_depth': 2, 'max_leaf_nodes': 3}"
      ]
     },
     "execution_count": 135,
     "metadata": {},
     "output_type": "execute_result"
    }
   ],
   "source": [
    "DT_grid_search = GridSearchCV(DT_reg, param_grid = DT_para, cv = 10, return_train_score = True)\n",
    "DT_grid_search.fit(x_train, y_train)\n",
    "DT_grid_search.best_params_"
   ]
  },
  {
   "cell_type": "code",
   "execution_count": 136,
   "metadata": {},
   "outputs": [],
   "source": [
    "SVC_best_reg = SVC_grid_search.best_estimator_\n",
    "DT_best_reg = DT_grid_search.best_estimator_"
   ]
  },
  {
   "cell_type": "markdown",
   "metadata": {},
   "source": [
    "## Step 4: Evaluate the model"
   ]
  },
  {
   "cell_type": "code",
   "execution_count": 137,
   "metadata": {},
   "outputs": [
    {
     "data": {
      "text/plain": [
       "0.9230769230769231"
      ]
     },
     "execution_count": 137,
     "metadata": {},
     "output_type": "execute_result"
    }
   ],
   "source": [
    "SVC = SVC_best_reg.fit(x_train, y_train)\n",
    "SVC.score(x_train, y_train)"
   ]
  },
  {
   "cell_type": "code",
   "execution_count": 138,
   "metadata": {},
   "outputs": [
    {
     "data": {
      "text/plain": [
       "0.9230769230769231"
      ]
     },
     "execution_count": 138,
     "metadata": {},
     "output_type": "execute_result"
    }
   ],
   "source": [
    "DT = DT_best_reg.fit(x_train, y_train)\n",
    "DT.score(x_train, y_train.ravel())"
   ]
  },
  {
   "cell_type": "code",
   "execution_count": 139,
   "metadata": {},
   "outputs": [
    {
     "data": {
      "text/plain": [
       "0.6"
      ]
     },
     "execution_count": 139,
     "metadata": {},
     "output_type": "execute_result"
    }
   ],
   "source": [
    "SVC.score(x_test, y_test)"
   ]
  },
  {
   "cell_type": "code",
   "execution_count": 140,
   "metadata": {},
   "outputs": [
    {
     "data": {
      "text/plain": [
       "0.8"
      ]
     },
     "execution_count": 140,
     "metadata": {},
     "output_type": "execute_result"
    }
   ],
   "source": [
    "DT.score(x_test, y_test)"
   ]
  },
  {
   "cell_type": "code",
   "execution_count": 141,
   "metadata": {},
   "outputs": [],
   "source": [
    "svc_pred = SVC.predict_proba(x_train)"
   ]
  },
  {
   "cell_type": "code",
   "execution_count": 142,
   "metadata": {},
   "outputs": [],
   "source": [
    "dt_pred = DT.predict(x_test)"
   ]
  },
  {
   "cell_type": "code",
   "execution_count": 143,
   "metadata": {},
   "outputs": [],
   "source": [
    "import scikitplot as skplt\n",
    "import matplotlib.pyplot as plt\n",
    "\n"
   ]
  },
  {
   "cell_type": "code",
   "execution_count": 144,
   "metadata": {},
   "outputs": [
    {
     "name": "stderr",
     "output_type": "stream",
     "text": [
      "C:\\Users\\a1003\\anaconda3\\envs\\py3-TF2.0\\lib\\site-packages\\sklearn\\utils\\deprecation.py:86: FutureWarning: Function plot_roc_curve is deprecated; This will be removed in v0.5.0. Please use scikitplot.metrics.plot_roc instead.\n",
      "  warnings.warn(msg, category=FutureWarning)\n"
     ]
    },
    {
     "data": {
      "image/png": "[encoded data removed]",
      "text/plain": [
       "<Figure size 432x288 with 1 Axes>"
      ]
     },
     "metadata": {
      "needs_background": "light"
     },
     "output_type": "display_data"
    }
   ],
   "source": [
    "import scikitplot as skplt\n",
    "import matplotlib.pyplot as plt\n",
    "\n",
    "y_true = y_train\n",
    "y_probas = svc_pred\n",
    "skplt.metrics.plot_roc_curve(y_true, y_probas)\n",
    "plt.show()"
   ]
  },
  {
   "cell_type": "code",
   "execution_count": 145,
   "metadata": {},
   "outputs": [],
   "source": [
    "from sklearn.metrics import accuracy_score\n",
    "from sklearn.metrics import precision_score\n",
    "from sklearn.metrics import recall_score\n",
    "from sklearn.metrics import confusion_matrix"
   ]
  },
  {
   "cell_type": "code",
   "execution_count": 146,
   "metadata": {},
   "outputs": [
    {
     "name": "stdout",
     "output_type": "stream",
     "text": [
      "acc: 0.9230769230769231\n",
      "recall: 0.9642857142857143\n",
      "precision: 0.8888888888888888\n"
     ]
    }
   ],
   "source": [
    "acc_3_t = accuracy_score(SVC.predict(x_train), y_train)\n",
    "cm_3_t = confusion_matrix(SVC.predict(x_train), y_train)\n",
    "recall = np.diag(cm_3_t) / np.sum(cm_3_t, axis = 1)\n",
    "recall_3_t = np.mean(recall)\n",
    "precision = np.diag(cm_3_t) / np.sum(cm_3_t, axis = 0)\n",
    "precision_3_t = np.nanmean(precision)\n",
    "print(\"acc: \" + str(acc_3_t) + \"\\n\" + \"recall: \" + str(recall_3_t) + \"\\n\" + \"precision: \" + str(precision_3_t))"
   ]
  },
  {
   "cell_type": "code",
   "execution_count": 147,
   "metadata": {},
   "outputs": [
    {
     "name": "stdout",
     "output_type": "stream",
     "text": [
      "acc: 0.9230769230769231\n",
      "recall: 0.9166666666666666\n",
      "precision: 0.9066666666666667\n"
     ]
    }
   ],
   "source": [
    "acc_3_t = accuracy_score(DT.predict(x_train), y_train)\n",
    "cm_3_t = confusion_matrix(DT.predict(x_train), y_train)\n",
    "recall = np.diag(cm_3_t) / np.sum(cm_3_t, axis = 1)\n",
    "recall_3_t = np.mean(recall)\n",
    "precision = np.diag(cm_3_t) / np.sum(cm_3_t, axis = 0)\n",
    "precision_3_t = np.nanmean(precision)\n",
    "print(\"acc: \" + str(acc_3_t) + \"\\n\" + \"recall: \" + str(recall_3_t) + \"\\n\" + \"precision: \" + str(precision_3_t))"
   ]
  },
  {
   "cell_type": "code",
   "execution_count": null,
   "metadata": {},
   "outputs": [],
   "source": []
  }
 ],
 "metadata": {
  "kernelspec": {
   "display_name": "Python [conda env:py3-TF2.0]",
   "language": "python",
   "name": "conda-env-py3-TF2.0-py"
  },
  "language_info": {
   "codemirror_mode": {
    "name": "ipython",
    "version": 3
   },
   "file_extension": ".py",
   "mimetype": "text/x-python",
   "name": "python",
   "nbconvert_exporter": "python",
   "pygments_lexer": "ipython3",
   "version": "3.7.9"
  }
 },
 "nbformat": 4,
 "nbformat_minor": 4
}

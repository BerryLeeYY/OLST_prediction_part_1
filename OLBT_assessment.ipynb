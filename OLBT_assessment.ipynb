{
 "cells": [
  {
   "cell_type": "markdown",
   "metadata": {},
   "source": [
    "# Main objective: Assessing OLST performance"
   ]
  },
  {
   "cell_type": "markdown",
   "metadata": {},
   "source": [
    "###### In this script, we are using unsupervied machine learning to assess the performance of the One Leg Balance Test. For input metric, it is a N raws * 128 columns dataframe. The input parameters include different features during One Leg Balance Test trail such as \n",
    "* 1.\tLifting forefoot or heel  \n",
    "* 2.   Moving hip into more than 30 degrees of flexion or abduction  \n",
    "* 3.\tStepping, stumbling, or falling \n",
    "* 4.\tLifting hands off iliac crests\n"
   ]
  },
  {
   "cell_type": "markdown",
   "metadata": {},
   "source": [
    "## Step 1: Load and create the dataset"
   ]
  },
  {
   "cell_type": "code",
   "execution_count": 138,
   "metadata": {},
   "outputs": [],
   "source": [
    "import pandas as pd\n",
    "import numpy as np\n",
    "import os"
   ]
  },
  {
   "cell_type": "code",
   "execution_count": 139,
   "metadata": {},
   "outputs": [
    {
     "name": "stdout",
     "output_type": "stream",
     "text": [
      "Current subject number: 50\n",
      "Current features number: 39\n"
     ]
    }
   ],
   "source": [
    "### Direct to the correct folder\n",
    "path = 'C:/Users/a1003/OneDrive/桌面/Thesis/data/OLBT/sub1to31'\n",
    "filenames = os.listdir(path)   ### List the files name in the folder\n",
    "sub_id = []                    ### Initialize the subject name list\n",
    "value_list = []               ### Initialzie the value list\n",
    "\n",
    "### Organize the information into different list and then integrate them together as a dataframe\n",
    "for sub in filenames:\n",
    "    curr_file = path + '/' + sub\n",
    "    curr_csv = pd.read_csv(curr_file)\n",
    "    value = list(curr_csv.loc[0])\n",
    "    value_list.append(value)\n",
    "    ID = str(curr_csv[\"sub_ID\"][0]) ### -25: sub0?, -4: remove .csv\n",
    "    sub_id.append(ID)\n",
    "            \n",
    "print(\"Current subject number: \" + str(len(sub_id)) + '\\n' + \"Current features number: \" + str(len(value)))"
   ]
  },
  {
   "cell_type": "code",
   "execution_count": 140,
   "metadata": {},
   "outputs": [],
   "source": [
    "### Create the correct columns name\n",
    "col_names = list(curr_csv.columns)\n",
    "all_col_names = [\"sub_ID\"] + col_names"
   ]
  },
  {
   "cell_type": "code",
   "execution_count": 141,
   "metadata": {
    "scrolled": true
   },
   "outputs": [],
   "source": [
    "### Create the correct metrix which is going to be convert to dataframe\n",
    "all_list = []\n",
    "for i in range(len(sub_id)):\n",
    "    v = [(sub_id[i])] + value_list[i]\n",
    "    all_list.append(v)"
   ]
  },
  {
   "cell_type": "code",
   "execution_count": 145,
   "metadata": {},
   "outputs": [],
   "source": [
    "### Use the list and metrix above the create a new table\n",
    "raw_df = pd.DataFrame(all_list, columns = all_col_names)\n",
    "raw_df.columns = ['sub_ID', 'SL_fore_var_height', 'SL_heel_var_height',\n",
    "       'OL_fore_var_height', 'OL_heel_var_height', 'SL_fore_mean_height',\n",
    "       'SL_heel_mean_height', 'OL_fore_mean_height', 'OL_heel_mean_height',\n",
    "       'SL_fore_max_height', 'SL_heel_max_height', 'OL_fore_max_height',\n",
    "       'OL_heel_max_height', 'SL_var_flex', 'OL_var_flex', 'SL_mean_flex',\n",
    "       'OL_mean_flex', 'SL_max_flex', 'OL_max_flex', 'SL_duration_flex',\n",
    "       'OL_duration_flex', 'SL_var_abd', 'OL_var_abd', 'SL_mean_abd',\n",
    "       'OL_mean_abd', 'SL_max_abd', 'OL_max_abd', 'SL_duration_abd',\n",
    "       'OL_duration_abd', 'stepping_freq', 'stepping_duration', 'var_RL_dis',\n",
    "       'Max_min_RL_dis', 'sub', 'foot_height_count', 'angle_count',\n",
    "       'stepping_count', 'hand_iliac_count', 'out_position_count', 'totel']\n",
    "NL_df = raw_df.drop([\"sub\"], axis = 1)\n",
    "AM_df = raw_df.iloc[:, 33:]"
   ]
  },
  {
   "cell_type": "code",
   "execution_count": 59,
   "metadata": {
    "scrolled": true
   },
   "outputs": [],
   "source": [
    "#AM_df.to_csv(\"C:/Users/a1003/OneDrive/桌面/Thesis/excel_csv/new_assessment/automated_system_assessment.csv\")"
   ]
  },
  {
   "cell_type": "markdown",
   "metadata": {},
   "source": [
    "## Step 2: Preprocessing the data"
   ]
  },
  {
   "cell_type": "markdown",
   "metadata": {},
   "source": [
    "* Missing data"
   ]
  },
  {
   "cell_type": "code",
   "execution_count": 146,
   "metadata": {},
   "outputs": [
    {
     "name": "stdout",
     "output_type": "stream",
     "text": [
      "Amount of nan in original table: 0\n",
      "Amount of nan in current table: 0\n"
     ]
    }
   ],
   "source": [
    "### fill the missing data with average\n",
    "df = NL_df.copy()\n",
    "df_without_na = df.iloc[:,1:].copy()\n",
    "for col in NL_df.columns:\n",
    "    if df[col].isna().sum() != 0:\n",
    "        df_without_na[col] = df_without_na[col].fillna(df[col].mean())\n",
    "print(\"Amount of nan in original table: \" + str(df.isna().sum().sum()) + '\\n' + \"Amount of nan in current table: \" + str(df_without_na.isna().sum().sum()))"
   ]
  },
  {
   "cell_type": "code",
   "execution_count": 147,
   "metadata": {},
   "outputs": [],
   "source": [
    "### normalize the dataset\n",
    "from sklearn import preprocessing\n",
    "\n",
    "normalized_df = pd.DataFrame()\n",
    "for col in df_without_na.columns[:]:\n",
    "    normalized_df[col] = preprocessing.normalize(np.array(df_without_na[col]).reshape(1, -1))[0]"
   ]
  },
  {
   "cell_type": "code",
   "execution_count": 148,
   "metadata": {},
   "outputs": [],
   "source": [
    "#normalized_df"
   ]
  },
  {
   "cell_type": "markdown",
   "metadata": {},
   "source": [
    "## Step 3: Feature selection"
   ]
  },
  {
   "cell_type": "code",
   "execution_count": 149,
   "metadata": {},
   "outputs": [],
   "source": [
    "from sklearn.decomposition import PCA\n",
    "import matplotlib.pyplot as plt"
   ]
  },
  {
   "cell_type": "code",
   "execution_count": 150,
   "metadata": {},
   "outputs": [],
   "source": [
    "pca = PCA(n_components = 0.95)"
   ]
  },
  {
   "cell_type": "code",
   "execution_count": 151,
   "metadata": {},
   "outputs": [
    {
     "data": {
      "text/plain": [
       "PCA(n_components=0.95)"
      ]
     },
     "execution_count": 151,
     "metadata": {},
     "output_type": "execute_result"
    }
   ],
   "source": [
    "pca.fit(normalized_df)\n"
   ]
  },
  {
   "cell_type": "code",
   "execution_count": 152,
   "metadata": {},
   "outputs": [
    {
     "data": {
      "text/plain": [
       "(13, 38)"
      ]
     },
     "execution_count": 152,
     "metadata": {},
     "output_type": "execute_result"
    }
   ],
   "source": [
    "pca.components_.shape"
   ]
  },
  {
   "cell_type": "code",
   "execution_count": 153,
   "metadata": {},
   "outputs": [],
   "source": [
    "#plt.plot(pca.components_[0])\n"
   ]
  },
  {
   "cell_type": "code",
   "execution_count": 154,
   "metadata": {},
   "outputs": [],
   "source": [
    "#pca.components_"
   ]
  },
  {
   "cell_type": "code",
   "execution_count": 155,
   "metadata": {},
   "outputs": [],
   "source": [
    "pca_normalized_df = pca.fit_transform(normalized_df)\n",
    "pca_df_without_na = pca.fit_transform(df_without_na.iloc[:,1:])"
   ]
  },
  {
   "cell_type": "code",
   "execution_count": 156,
   "metadata": {},
   "outputs": [
    {
     "data": {
      "text/plain": [
       "(50, 13)"
      ]
     },
     "execution_count": 156,
     "metadata": {},
     "output_type": "execute_result"
    }
   ],
   "source": [
    "pca_normalized_df.shape\n",
    "### importance of the parameter"
   ]
  },
  {
   "cell_type": "markdown",
   "metadata": {},
   "source": [
    "## Step 4: Train and testing the model"
   ]
  },
  {
   "cell_type": "code",
   "execution_count": 157,
   "metadata": {},
   "outputs": [],
   "source": [
    "from sklearn.cluster import KMeans\n",
    "import matplotlib.pyplot as plt"
   ]
  },
  {
   "cell_type": "code",
   "execution_count": 158,
   "metadata": {},
   "outputs": [],
   "source": [
    "#normalized_df = np.array(normalized_df)\n",
    "#normalized_df"
   ]
  },
  {
   "cell_type": "code",
   "execution_count": 159,
   "metadata": {},
   "outputs": [
    {
     "data": {
      "text/plain": [
       "<matplotlib.collections.PathCollection at 0x164531dd0c8>"
      ]
     },
     "execution_count": 159,
     "metadata": {},
     "output_type": "execute_result"
    },
    {
     "data": {
      "image/png": "[encoded data removed]",
      "text/plain": [
       "<Figure size 432x288 with 1 Axes>"
      ]
     },
     "metadata": {
      "needs_background": "light"
     },
     "output_type": "display_data"
    }
   ],
   "source": [
    "# pca_normalized_df \n",
    "# normalized_df \n",
    "# df_without_na.iloc[:,1:] (not normalized)\n",
    "# pca_df_without_na  (not normalized)\n",
    "x_train = normalized_df\n",
    "inertia = []\n",
    "for cluster in range(1,10):\n",
    "    km = KMeans(n_clusters=cluster, random_state=0).fit(x_train)\n",
    "    iner = km.inertia_\n",
    "    inertia.append(iner)\n",
    "plt.plot(range(1,10), inertia)\n",
    "plt.title(\"Elbow plot\")\n",
    "plt.xlabel(\"Cluster number\")\n",
    "plt.ylabel(\"Inertia\")\n",
    "plt.scatter(range(1,10), inertia)"
   ]
  },
  {
   "cell_type": "code",
   "execution_count": 160,
   "metadata": {},
   "outputs": [],
   "source": [
    "km_3 = KMeans(n_clusters=3, random_state=0).fit(x_train)\n",
    "centers = km_3.cluster_centers_\n",
    "labels = km_3.labels_"
   ]
  },
  {
   "cell_type": "code",
   "execution_count": 161,
   "metadata": {},
   "outputs": [],
   "source": [
    "pd.set_option('display.max_rows', 100)\n",
    "df_3 = pd.DataFrame({\"Sub\": sub_id, \"Labels\":labels})\n",
    "df_3['Labels'] = df_3['Labels'].replace({0:'Good', 2:'Moderate', 1:'Bad'})\n",
    "df_3_sorted = df_3.sort_values('Sub')"
   ]
  },
  {
   "cell_type": "code",
   "execution_count": 162,
   "metadata": {
    "scrolled": true
   },
   "outputs": [],
   "source": [
    "df_3_sorted.to_csv(\"Automated_compared_df.csv\")"
   ]
  },
  {
   "cell_type": "markdown",
   "metadata": {},
   "source": [
    "## Step 4: Evaluate the model"
   ]
  },
  {
   "cell_type": "code",
   "execution_count": 163,
   "metadata": {},
   "outputs": [],
   "source": [
    "target_df = pd.read_csv(\"C:/Users/a1003/OneDrive/桌面/Thesis/assessing/OLBT_evaluation_sheet.csv\") "
   ]
  },
  {
   "cell_type": "code",
   "execution_count": 164,
   "metadata": {},
   "outputs": [],
   "source": [
    "target_df = target_df[[\"sub_ID\", \"overall_rate\"]]\n",
    "#target_df"
   ]
  },
  {
   "cell_type": "code",
   "execution_count": 165,
   "metadata": {},
   "outputs": [],
   "source": [
    "Automated_compared_df = df_3_sorted[(df_3_sorted['Sub'].isin(target_df['sub_ID']))].reset_index(drop=True)\n",
    "Comparison_sorted_df = target_df[(target_df['sub_ID'].isin(Automated_compared_df['Sub']))].reset_index(drop=True)"
   ]
  },
  {
   "cell_type": "code",
   "execution_count": 166,
   "metadata": {},
   "outputs": [],
   "source": [
    "comb_df_list = [Automated_compared_df, Comparison_sorted_df['overall_rate']]"
   ]
  },
  {
   "cell_type": "code",
   "execution_count": 167,
   "metadata": {},
   "outputs": [],
   "source": [
    "comparison_df = pd.concat(comb_df_list, axis = 1)\n",
    "comparison_df.columns = ['Sub', 'prediction', 'Target']"
   ]
  },
  {
   "cell_type": "code",
   "execution_count": 168,
   "metadata": {},
   "outputs": [
    {
     "data": {
      "text/html": [
       "<div>\n",
       "<style scoped>\n",
       "    .dataframe tbody tr th:only-of-type {\n",
       "        vertical-align: middle;\n",
       "    }\n",
       "\n",
       "    .dataframe tbody tr th {\n",
       "        vertical-align: top;\n",
       "    }\n",
       "\n",
       "    .dataframe thead th {\n",
       "        text-align: right;\n",
       "    }\n",
       "</style>\n",
       "<table border=\"1\" class=\"dataframe\">\n",
       "  <thead>\n",
       "    <tr style=\"text-align: right;\">\n",
       "      <th></th>\n",
       "      <th>Sub</th>\n",
       "      <th>prediction</th>\n",
       "      <th>Target</th>\n",
       "    </tr>\n",
       "  </thead>\n",
       "  <tbody>\n",
       "    <tr>\n",
       "      <th>0</th>\n",
       "      <td>sub_01_EC_W2</td>\n",
       "      <td>Good</td>\n",
       "      <td>Good</td>\n",
       "    </tr>\n",
       "    <tr>\n",
       "      <th>1</th>\n",
       "      <td>sub_01_EP_W2</td>\n",
       "      <td>Good</td>\n",
       "      <td>Good</td>\n",
       "    </tr>\n",
       "    <tr>\n",
       "      <th>2</th>\n",
       "      <td>sub_02_EC_W2</td>\n",
       "      <td>Bad</td>\n",
       "      <td>Bad</td>\n",
       "    </tr>\n",
       "    <tr>\n",
       "      <th>3</th>\n",
       "      <td>sub_02_EP_W2</td>\n",
       "      <td>Good</td>\n",
       "      <td>Good</td>\n",
       "    </tr>\n",
       "    <tr>\n",
       "      <th>4</th>\n",
       "      <td>sub_03_EC_W2</td>\n",
       "      <td>Good</td>\n",
       "      <td>Bad</td>\n",
       "    </tr>\n",
       "    <tr>\n",
       "      <th>5</th>\n",
       "      <td>sub_03_EP_W2</td>\n",
       "      <td>Good</td>\n",
       "      <td>Good</td>\n",
       "    </tr>\n",
       "    <tr>\n",
       "      <th>6</th>\n",
       "      <td>sub_04_EC_W2</td>\n",
       "      <td>Good</td>\n",
       "      <td>Good</td>\n",
       "    </tr>\n",
       "    <tr>\n",
       "      <th>7</th>\n",
       "      <td>sub_04_EP_W2</td>\n",
       "      <td>Good</td>\n",
       "      <td>Good</td>\n",
       "    </tr>\n",
       "    <tr>\n",
       "      <th>8</th>\n",
       "      <td>sub_05_EC_W2</td>\n",
       "      <td>Bad</td>\n",
       "      <td>Bad</td>\n",
       "    </tr>\n",
       "    <tr>\n",
       "      <th>9</th>\n",
       "      <td>sub_05_EP_W2</td>\n",
       "      <td>Good</td>\n",
       "      <td>Moderate</td>\n",
       "    </tr>\n",
       "    <tr>\n",
       "      <th>10</th>\n",
       "      <td>sub_06_EC_W2</td>\n",
       "      <td>Good</td>\n",
       "      <td>Good</td>\n",
       "    </tr>\n",
       "    <tr>\n",
       "      <th>11</th>\n",
       "      <td>sub_06_EP_W2</td>\n",
       "      <td>Good</td>\n",
       "      <td>Good</td>\n",
       "    </tr>\n",
       "    <tr>\n",
       "      <th>12</th>\n",
       "      <td>sub_07_EC_W2</td>\n",
       "      <td>Moderate</td>\n",
       "      <td>Moderate</td>\n",
       "    </tr>\n",
       "    <tr>\n",
       "      <th>13</th>\n",
       "      <td>sub_07_EP_W2</td>\n",
       "      <td>Good</td>\n",
       "      <td>Good</td>\n",
       "    </tr>\n",
       "    <tr>\n",
       "      <th>14</th>\n",
       "      <td>sub_08_EC_W2</td>\n",
       "      <td>Good</td>\n",
       "      <td>Good</td>\n",
       "    </tr>\n",
       "    <tr>\n",
       "      <th>15</th>\n",
       "      <td>sub_08_EP_W2</td>\n",
       "      <td>Good</td>\n",
       "      <td>Good</td>\n",
       "    </tr>\n",
       "    <tr>\n",
       "      <th>16</th>\n",
       "      <td>sub_09_EC_W2</td>\n",
       "      <td>Good</td>\n",
       "      <td>Moderate</td>\n",
       "    </tr>\n",
       "    <tr>\n",
       "      <th>17</th>\n",
       "      <td>sub_09_EP_W2</td>\n",
       "      <td>Good</td>\n",
       "      <td>Good</td>\n",
       "    </tr>\n",
       "    <tr>\n",
       "      <th>18</th>\n",
       "      <td>sub_10_EC_W2</td>\n",
       "      <td>Bad</td>\n",
       "      <td>Moderate</td>\n",
       "    </tr>\n",
       "    <tr>\n",
       "      <th>19</th>\n",
       "      <td>sub_10_EP_W2</td>\n",
       "      <td>Good</td>\n",
       "      <td>Good</td>\n",
       "    </tr>\n",
       "    <tr>\n",
       "      <th>20</th>\n",
       "      <td>sub_11_EC_W2</td>\n",
       "      <td>Good</td>\n",
       "      <td>Good</td>\n",
       "    </tr>\n",
       "    <tr>\n",
       "      <th>21</th>\n",
       "      <td>sub_11_EP_W2</td>\n",
       "      <td>Good</td>\n",
       "      <td>Good</td>\n",
       "    </tr>\n",
       "    <tr>\n",
       "      <th>22</th>\n",
       "      <td>sub_12_EC_W2</td>\n",
       "      <td>Good</td>\n",
       "      <td>Moderate</td>\n",
       "    </tr>\n",
       "    <tr>\n",
       "      <th>23</th>\n",
       "      <td>sub_13_EC_W2</td>\n",
       "      <td>Good</td>\n",
       "      <td>Moderate</td>\n",
       "    </tr>\n",
       "    <tr>\n",
       "      <th>24</th>\n",
       "      <td>sub_13_EP_W2</td>\n",
       "      <td>Good</td>\n",
       "      <td>Good</td>\n",
       "    </tr>\n",
       "    <tr>\n",
       "      <th>25</th>\n",
       "      <td>sub_14_EC_W2</td>\n",
       "      <td>Good</td>\n",
       "      <td>Good</td>\n",
       "    </tr>\n",
       "    <tr>\n",
       "      <th>26</th>\n",
       "      <td>sub_14_EP_W2</td>\n",
       "      <td>Good</td>\n",
       "      <td>Good</td>\n",
       "    </tr>\n",
       "    <tr>\n",
       "      <th>27</th>\n",
       "      <td>sub_15_EC_W2</td>\n",
       "      <td>Good</td>\n",
       "      <td>Good</td>\n",
       "    </tr>\n",
       "    <tr>\n",
       "      <th>28</th>\n",
       "      <td>sub_15_EP_W2</td>\n",
       "      <td>Good</td>\n",
       "      <td>Good</td>\n",
       "    </tr>\n",
       "    <tr>\n",
       "      <th>29</th>\n",
       "      <td>sub_16_EC_W2</td>\n",
       "      <td>Moderate</td>\n",
       "      <td>Moderate</td>\n",
       "    </tr>\n",
       "    <tr>\n",
       "      <th>30</th>\n",
       "      <td>sub_16_EP_W2</td>\n",
       "      <td>Moderate</td>\n",
       "      <td>Good</td>\n",
       "    </tr>\n",
       "    <tr>\n",
       "      <th>31</th>\n",
       "      <td>sub_17_EC_W2</td>\n",
       "      <td>Good</td>\n",
       "      <td>Good</td>\n",
       "    </tr>\n",
       "    <tr>\n",
       "      <th>32</th>\n",
       "      <td>sub_17_EP_W2</td>\n",
       "      <td>Good</td>\n",
       "      <td>Good</td>\n",
       "    </tr>\n",
       "    <tr>\n",
       "      <th>33</th>\n",
       "      <td>sub_18_EC_W2</td>\n",
       "      <td>Bad</td>\n",
       "      <td>Moderate</td>\n",
       "    </tr>\n",
       "    <tr>\n",
       "      <th>34</th>\n",
       "      <td>sub_19_EC_W2</td>\n",
       "      <td>Bad</td>\n",
       "      <td>Bad</td>\n",
       "    </tr>\n",
       "    <tr>\n",
       "      <th>35</th>\n",
       "      <td>sub_19_EP_W2</td>\n",
       "      <td>Good</td>\n",
       "      <td>Good</td>\n",
       "    </tr>\n",
       "    <tr>\n",
       "      <th>36</th>\n",
       "      <td>sub_23_EC_W2</td>\n",
       "      <td>Moderate</td>\n",
       "      <td>Moderate</td>\n",
       "    </tr>\n",
       "    <tr>\n",
       "      <th>37</th>\n",
       "      <td>sub_23_EP_W2</td>\n",
       "      <td>Moderate</td>\n",
       "      <td>Good</td>\n",
       "    </tr>\n",
       "    <tr>\n",
       "      <th>38</th>\n",
       "      <td>sub_24_EC_W2</td>\n",
       "      <td>Bad</td>\n",
       "      <td>Bad</td>\n",
       "    </tr>\n",
       "    <tr>\n",
       "      <th>39</th>\n",
       "      <td>sub_24_EP_W2</td>\n",
       "      <td>Bad</td>\n",
       "      <td>Moderate</td>\n",
       "    </tr>\n",
       "    <tr>\n",
       "      <th>40</th>\n",
       "      <td>sub_25_EC_W2</td>\n",
       "      <td>Moderate</td>\n",
       "      <td>Bad</td>\n",
       "    </tr>\n",
       "    <tr>\n",
       "      <th>41</th>\n",
       "      <td>sub_25_EP_W2</td>\n",
       "      <td>Moderate</td>\n",
       "      <td>Bad</td>\n",
       "    </tr>\n",
       "    <tr>\n",
       "      <th>42</th>\n",
       "      <td>sub_26_EC_W2</td>\n",
       "      <td>Bad</td>\n",
       "      <td>Bad</td>\n",
       "    </tr>\n",
       "    <tr>\n",
       "      <th>43</th>\n",
       "      <td>sub_26_EP_W2</td>\n",
       "      <td>Good</td>\n",
       "      <td>Good</td>\n",
       "    </tr>\n",
       "    <tr>\n",
       "      <th>44</th>\n",
       "      <td>sub_27_EC_W2</td>\n",
       "      <td>Good</td>\n",
       "      <td>Moderate</td>\n",
       "    </tr>\n",
       "    <tr>\n",
       "      <th>45</th>\n",
       "      <td>sub_29_EC_W2</td>\n",
       "      <td>Good</td>\n",
       "      <td>Good</td>\n",
       "    </tr>\n",
       "    <tr>\n",
       "      <th>46</th>\n",
       "      <td>sub_29_EP_W2</td>\n",
       "      <td>Good</td>\n",
       "      <td>Good</td>\n",
       "    </tr>\n",
       "    <tr>\n",
       "      <th>47</th>\n",
       "      <td>sub_30_EC_W2</td>\n",
       "      <td>Good</td>\n",
       "      <td>Moderate</td>\n",
       "    </tr>\n",
       "    <tr>\n",
       "      <th>48</th>\n",
       "      <td>sub_30_EP_W2</td>\n",
       "      <td>Good</td>\n",
       "      <td>Good</td>\n",
       "    </tr>\n",
       "  </tbody>\n",
       "</table>\n",
       "</div>"
      ],
      "text/plain": [
       "             Sub prediction    Target\n",
       "0   sub_01_EC_W2       Good      Good\n",
       "1   sub_01_EP_W2       Good      Good\n",
       "2   sub_02_EC_W2        Bad       Bad\n",
       "3   sub_02_EP_W2       Good      Good\n",
       "4   sub_03_EC_W2       Good       Bad\n",
       "5   sub_03_EP_W2       Good      Good\n",
       "6   sub_04_EC_W2       Good      Good\n",
       "7   sub_04_EP_W2       Good      Good\n",
       "8   sub_05_EC_W2        Bad       Bad\n",
       "9   sub_05_EP_W2       Good  Moderate\n",
       "10  sub_06_EC_W2       Good      Good\n",
       "11  sub_06_EP_W2       Good      Good\n",
       "12  sub_07_EC_W2   Moderate  Moderate\n",
       "13  sub_07_EP_W2       Good      Good\n",
       "14  sub_08_EC_W2       Good      Good\n",
       "15  sub_08_EP_W2       Good      Good\n",
       "16  sub_09_EC_W2       Good  Moderate\n",
       "17  sub_09_EP_W2       Good      Good\n",
       "18  sub_10_EC_W2        Bad  Moderate\n",
       "19  sub_10_EP_W2       Good      Good\n",
       "20  sub_11_EC_W2       Good      Good\n",
       "21  sub_11_EP_W2       Good      Good\n",
       "22  sub_12_EC_W2       Good  Moderate\n",
       "23  sub_13_EC_W2       Good  Moderate\n",
       "24  sub_13_EP_W2       Good      Good\n",
       "25  sub_14_EC_W2       Good      Good\n",
       "26  sub_14_EP_W2       Good      Good\n",
       "27  sub_15_EC_W2       Good      Good\n",
       "28  sub_15_EP_W2       Good      Good\n",
       "29  sub_16_EC_W2   Moderate  Moderate\n",
       "30  sub_16_EP_W2   Moderate      Good\n",
       "31  sub_17_EC_W2       Good      Good\n",
       "32  sub_17_EP_W2       Good      Good\n",
       "33  sub_18_EC_W2        Bad  Moderate\n",
       "34  sub_19_EC_W2        Bad       Bad\n",
       "35  sub_19_EP_W2       Good      Good\n",
       "36  sub_23_EC_W2   Moderate  Moderate\n",
       "37  sub_23_EP_W2   Moderate      Good\n",
       "38  sub_24_EC_W2        Bad       Bad\n",
       "39  sub_24_EP_W2        Bad  Moderate\n",
       "40  sub_25_EC_W2   Moderate       Bad\n",
       "41  sub_25_EP_W2   Moderate       Bad\n",
       "42  sub_26_EC_W2        Bad       Bad\n",
       "43  sub_26_EP_W2       Good      Good\n",
       "44  sub_27_EC_W2       Good  Moderate\n",
       "45  sub_29_EC_W2       Good      Good\n",
       "46  sub_29_EP_W2       Good      Good\n",
       "47  sub_30_EC_W2       Good  Moderate\n",
       "48  sub_30_EP_W2       Good      Good"
      ]
     },
     "execution_count": 168,
     "metadata": {},
     "output_type": "execute_result"
    }
   ],
   "source": [
    "comparison_df"
   ]
  },
  {
   "cell_type": "markdown",
   "metadata": {},
   "source": [
    "## Accuracy"
   ]
  },
  {
   "cell_type": "code",
   "execution_count": 169,
   "metadata": {},
   "outputs": [],
   "source": [
    "from sklearn.metrics import accuracy_score\n",
    "from sklearn.metrics import precision_score\n",
    "from sklearn.metrics import recall_score\n",
    "from sklearn.metrics import confusion_matrix"
   ]
  },
  {
   "cell_type": "code",
   "execution_count": 170,
   "metadata": {
    "scrolled": false
   },
   "outputs": [
    {
     "name": "stdout",
     "output_type": "stream",
     "text": [
      "acc: 0.7142857142857143\n",
      "recall: 0.6020114942528735\n",
      "precision: 0.6158963585434173\n"
     ]
    }
   ],
   "source": [
    "acc_3_t = accuracy_score(comparison_df['Target'], comparison_df['prediction'])\n",
    "cm_3_t = confusion_matrix(comparison_df['Target'], comparison_df['prediction'])\n",
    "recall = np.diag(cm_3_t) / np.sum(cm_3_t, axis = 1)\n",
    "recall_3_t = np.mean(recall)\n",
    "precision = np.diag(cm_3_t) / np.sum(cm_3_t, axis = 0)\n",
    "precision_3_t = np.nanmean(precision)\n",
    "print(\"acc: \" + str(acc_3_t) + \"\\n\" + \"recall: \" + str(recall_3_t) + \"\\n\" + \"precision: \" + str(precision_3_t))"
   ]
  },
  {
   "cell_type": "markdown",
   "metadata": {},
   "source": [
    "## Confusion Matrix"
   ]
  },
  {
   "cell_type": "code",
   "execution_count": 171,
   "metadata": {},
   "outputs": [],
   "source": [
    "from sklearn.metrics import confusion_matrix\n",
    "import seaborn as sns"
   ]
  },
  {
   "cell_type": "markdown",
   "metadata": {},
   "source": [
    "* 3_clusters_model"
   ]
  },
  {
   "cell_type": "markdown",
   "metadata": {},
   "source": [
    "#### Sensitivity"
   ]
  },
  {
   "cell_type": "code",
   "execution_count": 172,
   "metadata": {
    "scrolled": true
   },
   "outputs": [
    {
     "data": {
      "text/html": [
       "<div>\n",
       "<style scoped>\n",
       "    .dataframe tbody tr th:only-of-type {\n",
       "        vertical-align: middle;\n",
       "    }\n",
       "\n",
       "    .dataframe tbody tr th {\n",
       "        vertical-align: top;\n",
       "    }\n",
       "\n",
       "    .dataframe thead th {\n",
       "        text-align: right;\n",
       "    }\n",
       "</style>\n",
       "<table border=\"1\" class=\"dataframe\">\n",
       "  <thead>\n",
       "    <tr style=\"text-align: right;\">\n",
       "      <th></th>\n",
       "      <th>Sub</th>\n",
       "      <th>prediction</th>\n",
       "      <th>Target</th>\n",
       "    </tr>\n",
       "  </thead>\n",
       "  <tbody>\n",
       "    <tr>\n",
       "      <th>0</th>\n",
       "      <td>sub_01_EC_W2</td>\n",
       "      <td>Good</td>\n",
       "      <td>Good</td>\n",
       "    </tr>\n",
       "    <tr>\n",
       "      <th>1</th>\n",
       "      <td>sub_01_EP_W2</td>\n",
       "      <td>Good</td>\n",
       "      <td>Good</td>\n",
       "    </tr>\n",
       "    <tr>\n",
       "      <th>2</th>\n",
       "      <td>sub_02_EC_W2</td>\n",
       "      <td>Bad</td>\n",
       "      <td>Bad</td>\n",
       "    </tr>\n",
       "    <tr>\n",
       "      <th>3</th>\n",
       "      <td>sub_02_EP_W2</td>\n",
       "      <td>Good</td>\n",
       "      <td>Good</td>\n",
       "    </tr>\n",
       "    <tr>\n",
       "      <th>4</th>\n",
       "      <td>sub_03_EC_W2</td>\n",
       "      <td>Good</td>\n",
       "      <td>Bad</td>\n",
       "    </tr>\n",
       "    <tr>\n",
       "      <th>5</th>\n",
       "      <td>sub_03_EP_W2</td>\n",
       "      <td>Good</td>\n",
       "      <td>Good</td>\n",
       "    </tr>\n",
       "    <tr>\n",
       "      <th>6</th>\n",
       "      <td>sub_04_EC_W2</td>\n",
       "      <td>Good</td>\n",
       "      <td>Good</td>\n",
       "    </tr>\n",
       "    <tr>\n",
       "      <th>7</th>\n",
       "      <td>sub_04_EP_W2</td>\n",
       "      <td>Good</td>\n",
       "      <td>Good</td>\n",
       "    </tr>\n",
       "    <tr>\n",
       "      <th>8</th>\n",
       "      <td>sub_05_EC_W2</td>\n",
       "      <td>Bad</td>\n",
       "      <td>Bad</td>\n",
       "    </tr>\n",
       "    <tr>\n",
       "      <th>9</th>\n",
       "      <td>sub_05_EP_W2</td>\n",
       "      <td>Good</td>\n",
       "      <td>Moderate</td>\n",
       "    </tr>\n",
       "    <tr>\n",
       "      <th>10</th>\n",
       "      <td>sub_06_EC_W2</td>\n",
       "      <td>Good</td>\n",
       "      <td>Good</td>\n",
       "    </tr>\n",
       "    <tr>\n",
       "      <th>11</th>\n",
       "      <td>sub_06_EP_W2</td>\n",
       "      <td>Good</td>\n",
       "      <td>Good</td>\n",
       "    </tr>\n",
       "    <tr>\n",
       "      <th>12</th>\n",
       "      <td>sub_07_EC_W2</td>\n",
       "      <td>Moderate</td>\n",
       "      <td>Moderate</td>\n",
       "    </tr>\n",
       "    <tr>\n",
       "      <th>13</th>\n",
       "      <td>sub_07_EP_W2</td>\n",
       "      <td>Good</td>\n",
       "      <td>Good</td>\n",
       "    </tr>\n",
       "    <tr>\n",
       "      <th>14</th>\n",
       "      <td>sub_08_EC_W2</td>\n",
       "      <td>Good</td>\n",
       "      <td>Good</td>\n",
       "    </tr>\n",
       "    <tr>\n",
       "      <th>15</th>\n",
       "      <td>sub_08_EP_W2</td>\n",
       "      <td>Good</td>\n",
       "      <td>Good</td>\n",
       "    </tr>\n",
       "    <tr>\n",
       "      <th>16</th>\n",
       "      <td>sub_09_EC_W2</td>\n",
       "      <td>Good</td>\n",
       "      <td>Moderate</td>\n",
       "    </tr>\n",
       "    <tr>\n",
       "      <th>17</th>\n",
       "      <td>sub_09_EP_W2</td>\n",
       "      <td>Good</td>\n",
       "      <td>Good</td>\n",
       "    </tr>\n",
       "    <tr>\n",
       "      <th>18</th>\n",
       "      <td>sub_10_EC_W2</td>\n",
       "      <td>Bad</td>\n",
       "      <td>Moderate</td>\n",
       "    </tr>\n",
       "    <tr>\n",
       "      <th>19</th>\n",
       "      <td>sub_10_EP_W2</td>\n",
       "      <td>Good</td>\n",
       "      <td>Good</td>\n",
       "    </tr>\n",
       "    <tr>\n",
       "      <th>20</th>\n",
       "      <td>sub_11_EC_W2</td>\n",
       "      <td>Good</td>\n",
       "      <td>Good</td>\n",
       "    </tr>\n",
       "    <tr>\n",
       "      <th>21</th>\n",
       "      <td>sub_11_EP_W2</td>\n",
       "      <td>Good</td>\n",
       "      <td>Good</td>\n",
       "    </tr>\n",
       "    <tr>\n",
       "      <th>22</th>\n",
       "      <td>sub_12_EC_W2</td>\n",
       "      <td>Good</td>\n",
       "      <td>Moderate</td>\n",
       "    </tr>\n",
       "    <tr>\n",
       "      <th>23</th>\n",
       "      <td>sub_13_EC_W2</td>\n",
       "      <td>Good</td>\n",
       "      <td>Moderate</td>\n",
       "    </tr>\n",
       "    <tr>\n",
       "      <th>24</th>\n",
       "      <td>sub_13_EP_W2</td>\n",
       "      <td>Good</td>\n",
       "      <td>Good</td>\n",
       "    </tr>\n",
       "    <tr>\n",
       "      <th>25</th>\n",
       "      <td>sub_14_EC_W2</td>\n",
       "      <td>Good</td>\n",
       "      <td>Good</td>\n",
       "    </tr>\n",
       "    <tr>\n",
       "      <th>26</th>\n",
       "      <td>sub_14_EP_W2</td>\n",
       "      <td>Good</td>\n",
       "      <td>Good</td>\n",
       "    </tr>\n",
       "    <tr>\n",
       "      <th>27</th>\n",
       "      <td>sub_15_EC_W2</td>\n",
       "      <td>Good</td>\n",
       "      <td>Good</td>\n",
       "    </tr>\n",
       "    <tr>\n",
       "      <th>28</th>\n",
       "      <td>sub_15_EP_W2</td>\n",
       "      <td>Good</td>\n",
       "      <td>Good</td>\n",
       "    </tr>\n",
       "    <tr>\n",
       "      <th>29</th>\n",
       "      <td>sub_16_EC_W2</td>\n",
       "      <td>Moderate</td>\n",
       "      <td>Moderate</td>\n",
       "    </tr>\n",
       "    <tr>\n",
       "      <th>30</th>\n",
       "      <td>sub_16_EP_W2</td>\n",
       "      <td>Moderate</td>\n",
       "      <td>Good</td>\n",
       "    </tr>\n",
       "    <tr>\n",
       "      <th>31</th>\n",
       "      <td>sub_17_EC_W2</td>\n",
       "      <td>Good</td>\n",
       "      <td>Good</td>\n",
       "    </tr>\n",
       "    <tr>\n",
       "      <th>32</th>\n",
       "      <td>sub_17_EP_W2</td>\n",
       "      <td>Good</td>\n",
       "      <td>Good</td>\n",
       "    </tr>\n",
       "    <tr>\n",
       "      <th>33</th>\n",
       "      <td>sub_18_EC_W2</td>\n",
       "      <td>Bad</td>\n",
       "      <td>Moderate</td>\n",
       "    </tr>\n",
       "    <tr>\n",
       "      <th>34</th>\n",
       "      <td>sub_19_EC_W2</td>\n",
       "      <td>Bad</td>\n",
       "      <td>Bad</td>\n",
       "    </tr>\n",
       "    <tr>\n",
       "      <th>35</th>\n",
       "      <td>sub_19_EP_W2</td>\n",
       "      <td>Good</td>\n",
       "      <td>Good</td>\n",
       "    </tr>\n",
       "    <tr>\n",
       "      <th>36</th>\n",
       "      <td>sub_23_EC_W2</td>\n",
       "      <td>Moderate</td>\n",
       "      <td>Moderate</td>\n",
       "    </tr>\n",
       "    <tr>\n",
       "      <th>37</th>\n",
       "      <td>sub_23_EP_W2</td>\n",
       "      <td>Moderate</td>\n",
       "      <td>Good</td>\n",
       "    </tr>\n",
       "    <tr>\n",
       "      <th>38</th>\n",
       "      <td>sub_24_EC_W2</td>\n",
       "      <td>Bad</td>\n",
       "      <td>Bad</td>\n",
       "    </tr>\n",
       "    <tr>\n",
       "      <th>39</th>\n",
       "      <td>sub_24_EP_W2</td>\n",
       "      <td>Bad</td>\n",
       "      <td>Moderate</td>\n",
       "    </tr>\n",
       "    <tr>\n",
       "      <th>40</th>\n",
       "      <td>sub_25_EC_W2</td>\n",
       "      <td>Moderate</td>\n",
       "      <td>Bad</td>\n",
       "    </tr>\n",
       "    <tr>\n",
       "      <th>41</th>\n",
       "      <td>sub_25_EP_W2</td>\n",
       "      <td>Moderate</td>\n",
       "      <td>Bad</td>\n",
       "    </tr>\n",
       "    <tr>\n",
       "      <th>42</th>\n",
       "      <td>sub_26_EC_W2</td>\n",
       "      <td>Bad</td>\n",
       "      <td>Bad</td>\n",
       "    </tr>\n",
       "    <tr>\n",
       "      <th>43</th>\n",
       "      <td>sub_26_EP_W2</td>\n",
       "      <td>Good</td>\n",
       "      <td>Good</td>\n",
       "    </tr>\n",
       "    <tr>\n",
       "      <th>44</th>\n",
       "      <td>sub_27_EC_W2</td>\n",
       "      <td>Good</td>\n",
       "      <td>Moderate</td>\n",
       "    </tr>\n",
       "    <tr>\n",
       "      <th>45</th>\n",
       "      <td>sub_29_EC_W2</td>\n",
       "      <td>Good</td>\n",
       "      <td>Good</td>\n",
       "    </tr>\n",
       "    <tr>\n",
       "      <th>46</th>\n",
       "      <td>sub_29_EP_W2</td>\n",
       "      <td>Good</td>\n",
       "      <td>Good</td>\n",
       "    </tr>\n",
       "    <tr>\n",
       "      <th>47</th>\n",
       "      <td>sub_30_EC_W2</td>\n",
       "      <td>Good</td>\n",
       "      <td>Moderate</td>\n",
       "    </tr>\n",
       "    <tr>\n",
       "      <th>48</th>\n",
       "      <td>sub_30_EP_W2</td>\n",
       "      <td>Good</td>\n",
       "      <td>Good</td>\n",
       "    </tr>\n",
       "  </tbody>\n",
       "</table>\n",
       "</div>"
      ],
      "text/plain": [
       "             Sub prediction    Target\n",
       "0   sub_01_EC_W2       Good      Good\n",
       "1   sub_01_EP_W2       Good      Good\n",
       "2   sub_02_EC_W2        Bad       Bad\n",
       "3   sub_02_EP_W2       Good      Good\n",
       "4   sub_03_EC_W2       Good       Bad\n",
       "5   sub_03_EP_W2       Good      Good\n",
       "6   sub_04_EC_W2       Good      Good\n",
       "7   sub_04_EP_W2       Good      Good\n",
       "8   sub_05_EC_W2        Bad       Bad\n",
       "9   sub_05_EP_W2       Good  Moderate\n",
       "10  sub_06_EC_W2       Good      Good\n",
       "11  sub_06_EP_W2       Good      Good\n",
       "12  sub_07_EC_W2   Moderate  Moderate\n",
       "13  sub_07_EP_W2       Good      Good\n",
       "14  sub_08_EC_W2       Good      Good\n",
       "15  sub_08_EP_W2       Good      Good\n",
       "16  sub_09_EC_W2       Good  Moderate\n",
       "17  sub_09_EP_W2       Good      Good\n",
       "18  sub_10_EC_W2        Bad  Moderate\n",
       "19  sub_10_EP_W2       Good      Good\n",
       "20  sub_11_EC_W2       Good      Good\n",
       "21  sub_11_EP_W2       Good      Good\n",
       "22  sub_12_EC_W2       Good  Moderate\n",
       "23  sub_13_EC_W2       Good  Moderate\n",
       "24  sub_13_EP_W2       Good      Good\n",
       "25  sub_14_EC_W2       Good      Good\n",
       "26  sub_14_EP_W2       Good      Good\n",
       "27  sub_15_EC_W2       Good      Good\n",
       "28  sub_15_EP_W2       Good      Good\n",
       "29  sub_16_EC_W2   Moderate  Moderate\n",
       "30  sub_16_EP_W2   Moderate      Good\n",
       "31  sub_17_EC_W2       Good      Good\n",
       "32  sub_17_EP_W2       Good      Good\n",
       "33  sub_18_EC_W2        Bad  Moderate\n",
       "34  sub_19_EC_W2        Bad       Bad\n",
       "35  sub_19_EP_W2       Good      Good\n",
       "36  sub_23_EC_W2   Moderate  Moderate\n",
       "37  sub_23_EP_W2   Moderate      Good\n",
       "38  sub_24_EC_W2        Bad       Bad\n",
       "39  sub_24_EP_W2        Bad  Moderate\n",
       "40  sub_25_EC_W2   Moderate       Bad\n",
       "41  sub_25_EP_W2   Moderate       Bad\n",
       "42  sub_26_EC_W2        Bad       Bad\n",
       "43  sub_26_EP_W2       Good      Good\n",
       "44  sub_27_EC_W2       Good  Moderate\n",
       "45  sub_29_EC_W2       Good      Good\n",
       "46  sub_29_EP_W2       Good      Good\n",
       "47  sub_30_EC_W2       Good  Moderate\n",
       "48  sub_30_EP_W2       Good      Good"
      ]
     },
     "execution_count": 172,
     "metadata": {},
     "output_type": "execute_result"
    }
   ],
   "source": [
    "comparison_df"
   ]
  },
  {
   "cell_type": "code",
   "execution_count": 173,
   "metadata": {},
   "outputs": [
    {
     "data": {
      "text/plain": [
       "array([[ 0,  2, 27],\n",
       "       [ 3,  3,  6],\n",
       "       [ 5,  2,  1]], dtype=int64)"
      ]
     },
     "execution_count": 173,
     "metadata": {},
     "output_type": "execute_result"
    }
   ],
   "source": [
    "# confusion_matrix(comparison_df['Target'], comparison_df['prediction'], labels = labels)\n",
    "labels = [\"Good\", \"Moderate\", \"Bad\"]\n",
    "origin_cm = confusion_matrix(comparison_df['Target'], comparison_df['prediction'], labels = labels)\n",
    "transform_cm =confusion_matrix(comparison_df['Target'], comparison_df['prediction'], labels = labels)\n",
    "transform_cm[:,0] = origin_cm[:,2]\n",
    "transform_cm[:,2] = origin_cm[:,0]\n",
    "transform_cm"
   ]
  },
  {
   "cell_type": "code",
   "execution_count": 174,
   "metadata": {},
   "outputs": [],
   "source": [
    "transform_1 = np.array([[transform_cm[2,2], transform_cm[2,1], transform_cm[2,0]],\n",
    "                 [transform_cm[1,2], transform_cm[1,1], transform_cm[1,0]],\n",
    "                 [transform_cm[0,2], transform_cm[0,1], transform_cm[0,0]]\n",
    "                ])"
   ]
  },
  {
   "cell_type": "code",
   "execution_count": 175,
   "metadata": {
    "scrolled": false
   },
   "outputs": [
    {
     "data": {
      "text/plain": [
       "Text(0.5, 1.0, '3_clusters_model confusion matrix')"
      ]
     },
     "execution_count": 175,
     "metadata": {},
     "output_type": "execute_result"
    },
    {
     "data": {
      "image/png": "[encoded data removed]",
      "text/plain": [
       "<Figure size 432x288 with 2 Axes>"
      ]
     },
     "metadata": {
      "needs_background": "light"
     },
     "output_type": "display_data"
    }
   ],
   "source": [
    "#labels = comparison_df['prediction'].unique()\n",
    "\n",
    "cm = origin_cm\n",
    "ax= plt.subplot()\n",
    "sns.heatmap(cm, ax = ax, annot=True, cmap=\"Blues\")\n",
    "ax.set_xlabel('Predicted labels')\n",
    "ax.set_ylabel('True labels')\n",
    "ax.set_xticklabels(labels)\n",
    "ax.set_yticklabels(labels)\n",
    "ax.set_title(\"3_clusters_model confusion matrix\")"
   ]
  },
  {
   "cell_type": "code",
   "execution_count": 176,
   "metadata": {},
   "outputs": [],
   "source": [
    "B_index = list(labels).index(\"Bad\")\n",
    "M_index = list(labels).index(\"Moderate\")\n",
    "G_index = list(labels).index(\"Good\")"
   ]
  },
  {
   "cell_type": "code",
   "execution_count": 177,
   "metadata": {},
   "outputs": [
    {
     "data": {
      "text/plain": [
       "Text(0.5, 1.0, '(3_clusters_model) Bad class prediction. Sensitivity (true positive rate): 62%')"
      ]
     },
     "execution_count": 177,
     "metadata": {},
     "output_type": "execute_result"
    },
    {
     "data": {
      "image/png": "[encoded data removed]",
      "text/plain": [
       "<Figure size 432x288 with 1 Axes>"
      ]
     },
     "metadata": {
      "needs_background": "light"
     },
     "output_type": "display_data"
    }
   ],
   "source": [
    "### Bad class error\n",
    "B_predicted_B_rate = cm[B_index][B_index]/sum(cm[B_index][:])*100\n",
    "B_predicted_M_rate = cm[B_index][M_index]/sum(cm[B_index][:])*100\n",
    "B_predicted_G_rate = cm[B_index][G_index]/sum(cm[B_index][:])*100\n",
    "ax = plt.subplot()\n",
    "ax.bar([\"B_predicted_B_rate\", \"B_predicted_M_rate\", \"B_predicted_G_rate\"], [B_predicted_B_rate, B_predicted_M_rate, B_predicted_G_rate])\n",
    "ax.set_ylabel(\"Percentage %\")\n",
    "plt.xticks(rotation=30)\n",
    "ax.set_title(\"(3_clusters_model) Bad class prediction. \" + \"Sensitivity (true positive rate): \" + str(round(B_predicted_B_rate)) + \"%\")"
   ]
  },
  {
   "cell_type": "code",
   "execution_count": 178,
   "metadata": {},
   "outputs": [
    {
     "data": {
      "text/plain": [
       "25.0"
      ]
     },
     "execution_count": 178,
     "metadata": {},
     "output_type": "execute_result"
    }
   ],
   "source": [
    "B_predicted_M_rate"
   ]
  },
  {
   "cell_type": "code",
   "execution_count": 179,
   "metadata": {},
   "outputs": [
    {
     "data": {
      "text/plain": [
       "Text(0.5, 1.0, '(3_clusters_model) Moderate class prediction. Sensitivity (true positive rate): 25%')"
      ]
     },
     "execution_count": 179,
     "metadata": {},
     "output_type": "execute_result"
    },
    {
     "data": {
      "image/png": "[encoded data removed]",
      "text/plain": [
       "<Figure size 432x288 with 1 Axes>"
      ]
     },
     "metadata": {
      "needs_background": "light"
     },
     "output_type": "display_data"
    }
   ],
   "source": [
    "### Moderate class error\n",
    "M_predicted_B_rate = cm[M_index][B_index]/sum(cm[M_index][:])*100\n",
    "M_predicted_M_rate = cm[M_index][M_index]/sum(cm[M_index][:])*100\n",
    "M_predicted_G_rate = cm[M_index][G_index]/sum(cm[M_index][:])*100\n",
    "ax = plt.subplot()\n",
    "ax.bar([\"M_predicted_B_rate\", \"M_predicted_M_rate\", \"M_predicted_G_rate\"], [M_predicted_B_rate, M_predicted_M_rate, M_predicted_G_rate])\n",
    "ax.set_ylabel(\"Percentage %\")\n",
    "plt.xticks(rotation=30)\n",
    "ax.set_title(\"(3_clusters_model) Moderate class prediction. \" + \"Sensitivity (true positive rate): \" + str(round(M_predicted_M_rate)) + \"%\")"
   ]
  },
  {
   "cell_type": "code",
   "execution_count": 180,
   "metadata": {},
   "outputs": [
    {
     "data": {
      "text/plain": [
       "25.0"
      ]
     },
     "execution_count": 180,
     "metadata": {},
     "output_type": "execute_result"
    }
   ],
   "source": [
    "M_predicted_B_rate"
   ]
  },
  {
   "cell_type": "code",
   "execution_count": 181,
   "metadata": {
    "scrolled": false
   },
   "outputs": [
    {
     "data": {
      "text/plain": [
       "Text(0.5, 1.0, '(3_clusters_model) Good class prediction. Sensitivity (true positive rate): 93%')"
      ]
     },
     "execution_count": 181,
     "metadata": {},
     "output_type": "execute_result"
    },
    {
     "data": {
      "image/png": "[encoded data removed]",
      "text/plain": [
       "<Figure size 432x288 with 1 Axes>"
      ]
     },
     "metadata": {
      "needs_background": "light"
     },
     "output_type": "display_data"
    }
   ],
   "source": [
    "### Good class error\n",
    "G_predicted_B_rate = cm[G_index][B_index]/sum(cm[G_index][:])*100\n",
    "G_predicted_M_rate = cm[G_index][M_index]/sum(cm[G_index][:])*100\n",
    "G_predicted_G_rate = cm[G_index][G_index]/sum(cm[G_index][:])*100\n",
    "ax = plt.subplot()\n",
    "ax.bar([\"G_predicted_B_rate\", \"G_predicted_M_rate\", \"G_predicted_G_rate\"], [G_predicted_B_rate, G_predicted_M_rate, G_predicted_G_rate])\n",
    "ax.set_ylabel(\"Percentage %\")\n",
    "plt.xticks(rotation=30)\n",
    "ax.set_title(\"(3_clusters_model) Good class prediction. \" + \"Sensitivity (true positive rate): \" + str(round(G_predicted_G_rate)) + \"%\")"
   ]
  },
  {
   "cell_type": "markdown",
   "metadata": {},
   "source": [
    "#### Precision (true predictive rate)"
   ]
  },
  {
   "cell_type": "code",
   "execution_count": 182,
   "metadata": {},
   "outputs": [
    {
     "data": {
      "text/plain": [
       "Text(0.5, 1.0, '(3_clusters_model) Bad class prediction. Precision (true predictive rate): 62%')"
      ]
     },
     "execution_count": 182,
     "metadata": {},
     "output_type": "execute_result"
    },
    {
     "data": {
      "image/png": "[encoded data removed]",
      "text/plain": [
       "<Figure size 432x288 with 1 Axes>"
      ]
     },
     "metadata": {
      "needs_background": "light"
     },
     "output_type": "display_data"
    }
   ],
   "source": [
    "### Bad class error\n",
    "PredictedB_is_B_rate = cm[B_index][B_index]/sum(cm[:,B_index])*100\n",
    "PredictedB_is_M_rate = cm[M_index][B_index]/sum(cm[:,B_index])*100\n",
    "PredictedB_is_G_rate = cm[G_index][B_index]/sum(cm[:,B_index])*100\n",
    "ax = plt.subplot()\n",
    "ax.bar([\"PredictedB_is_B_rate\", \"PredictedB_is_M_rate\", \"PredictedB_is_G_rate\"], [PredictedB_is_B_rate, PredictedB_is_M_rate, PredictedB_is_G_rate])\n",
    "ax.set_ylabel(\"Percentage %\")\n",
    "plt.xticks(rotation=30)\n",
    "ax.set_title(\"(3_clusters_model) Bad class prediction. \" + \"Precision (true predictive rate): \" + str(round(PredictedB_is_B_rate)) + \"%\")"
   ]
  },
  {
   "cell_type": "code",
   "execution_count": 183,
   "metadata": {},
   "outputs": [
    {
     "data": {
      "text/plain": [
       "37.5"
      ]
     },
     "execution_count": 183,
     "metadata": {},
     "output_type": "execute_result"
    }
   ],
   "source": [
    "PredictedB_is_M_rate"
   ]
  },
  {
   "cell_type": "code",
   "execution_count": 184,
   "metadata": {},
   "outputs": [
    {
     "data": {
      "text/plain": [
       "Text(0.5, 1.0, '(3_clusters_model) Moderate class prediction. Precision (true predictive rate): 43%')"
      ]
     },
     "execution_count": 184,
     "metadata": {},
     "output_type": "execute_result"
    },
    {
     "data": {
      "image/png": "[encoded data removed]",
      "text/plain": [
       "<Figure size 432x288 with 1 Axes>"
      ]
     },
     "metadata": {
      "needs_background": "light"
     },
     "output_type": "display_data"
    }
   ],
   "source": [
    "### Moderate class error\n",
    "PredictedM_is_B_rate = cm[B_index][M_index]/sum(cm[:,M_index])*100\n",
    "PredictedM_is_M_rate = cm[M_index][M_index]/sum(cm[:,M_index])*100\n",
    "PredictedM_is_G_rate = cm[G_index][M_index]/sum(cm[:,M_index])*100\n",
    "ax = plt.subplot()\n",
    "ax.bar([\"PredictedM_is_B_rate\", \"PredictedM_is_M_rate\", \"PredictedM_is_G_rate\"], [PredictedM_is_B_rate, PredictedM_is_M_rate, PredictedM_is_G_rate])\n",
    "ax.set_ylabel(\"Percentage %\")\n",
    "plt.xticks(rotation=30)\n",
    "ax.set_title(\"(3_clusters_model) Moderate class prediction. \" + \"Precision (true predictive rate): \" + str(round(PredictedM_is_M_rate)) + \"%\")"
   ]
  },
  {
   "cell_type": "code",
   "execution_count": 185,
   "metadata": {},
   "outputs": [
    {
     "data": {
      "text/plain": [
       "28.57142857142857"
      ]
     },
     "execution_count": 185,
     "metadata": {},
     "output_type": "execute_result"
    }
   ],
   "source": [
    "PredictedM_is_G_rate"
   ]
  },
  {
   "cell_type": "code",
   "execution_count": 186,
   "metadata": {
    "scrolled": false
   },
   "outputs": [
    {
     "data": {
      "text/plain": [
       "Text(0.5, 1.0, '(3_clusters_model) Good class prediction. Precision (true predictive rate): 79%')"
      ]
     },
     "execution_count": 186,
     "metadata": {},
     "output_type": "execute_result"
    },
    {
     "data": {
      "image/png": "[encoded data removed]",
      "text/plain": [
       "<Figure size 432x288 with 1 Axes>"
      ]
     },
     "metadata": {
      "needs_background": "light"
     },
     "output_type": "display_data"
    }
   ],
   "source": [
    "### Good class error\n",
    "PredictedG_is_B_rate = cm[B_index][G_index]/sum(cm[:,G_index])*100\n",
    "PredictedG_is_M_rate = cm[M_index][G_index]/sum(cm[:,G_index])*100\n",
    "PredictedG_is_G_rate = cm[G_index][G_index]/sum(cm[:,G_index])*100\n",
    "ax = plt.subplot()\n",
    "ax.bar([\"PredictedG_is_B_rate\", \"PredictedG_is_M_rate\", \"PredictedG_is_G_rate\"], [PredictedG_is_B_rate, PredictedG_is_M_rate, PredictedG_is_G_rate])\n",
    "ax.set_ylabel(\"Percentage %\")\n",
    "plt.xticks(rotation=30)\n",
    "ax.set_title(\"(3_clusters_model) Good class prediction. \" + \"Precision (true predictive rate): \" + str(round(PredictedG_is_G_rate)) + \"%\")"
   ]
  },
  {
   "cell_type": "code",
   "execution_count": 187,
   "metadata": {},
   "outputs": [
    {
     "data": {
      "text/plain": [
       "17.647058823529413"
      ]
     },
     "execution_count": 187,
     "metadata": {},
     "output_type": "execute_result"
    }
   ],
   "source": [
    "PredictedG_is_M_rate"
   ]
  },
  {
   "cell_type": "markdown",
   "metadata": {},
   "source": [
    "## save model"
   ]
  },
  {
   "cell_type": "code",
   "execution_count": 103,
   "metadata": {},
   "outputs": [],
   "source": [
    "import pickle"
   ]
  },
  {
   "cell_type": "code",
   "execution_count": 104,
   "metadata": {},
   "outputs": [],
   "source": [
    "#pickle.dump(km_3, open(\"km_3_20062022.pkl\", \"wb\"))"
   ]
  },
  {
   "cell_type": "code",
   "execution_count": 105,
   "metadata": {},
   "outputs": [],
   "source": [
    "# load the model\n",
    "# model = pickle.load(open(\"model.pkl\", \"rb\"))"
   ]
  },
  {
   "cell_type": "code",
   "execution_count": 106,
   "metadata": {},
   "outputs": [],
   "source": [
    "#comparison_df[\"Target\"].to_csv(\"SL_target.csv\")"
   ]
  },
  {
   "cell_type": "code",
   "execution_count": null,
   "metadata": {},
   "outputs": [],
   "source": []
  }
 ],
 "metadata": {
  "kernelspec": {
   "display_name": "Python [conda env:py3-TF2.0]",
   "language": "python",
   "name": "conda-env-py3-TF2.0-py"
  },
  "language_info": {
   "codemirror_mode": {
    "name": "ipython",
    "version": 3
   },
   "file_extension": ".py",
   "mimetype": "text/x-python",
   "name": "python",
   "nbconvert_exporter": "python",
   "pygments_lexer": "ipython3",
   "version": "3.7.9"
  }
 },
 "nbformat": 4,
 "nbformat_minor": 4
}
